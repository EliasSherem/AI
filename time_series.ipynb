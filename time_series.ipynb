{
 "cells": [
  {
   "cell_type": "code",
   "execution_count": 76,
   "id": "17dc3ecd",
   "metadata": {},
   "outputs": [],
   "source": [
    "from pandas import read_csv\n",
    "from matplotlib import pyplot\n",
    "from statsmodels.tsa.arima.model import ARIMA\n",
    "from sklearn.metrics import mean_squared_error\n",
    "from math import sqrt"
   ]
  },
  {
   "cell_type": "code",
   "execution_count": 77,
   "id": "28593918",
   "metadata": {},
   "outputs": [],
   "source": [
    "#Cargamos el dataset\n",
    "series = read_csv('C:\\\\Users\\\\shere\\\\Downloads\\\\daily-total-female-births.csv', header=0, index_col=0, parse_dates=True, squeeze=True)\n",
    "series.index = series.index.to_period('M')"
   ]
  },
  {
   "cell_type": "code",
   "execution_count": 78,
   "id": "b732de91",
   "metadata": {},
   "outputs": [],
   "source": [
    "#Dividimos en datos de entrenamiento y de pruebas\n",
    "X = series.values\n",
    "size = int(len(X) * 0.66)\n",
    "train, test = X[0:size], X[size:len(X)]\n",
    "history = [x for x in train]\n",
    "predictions = list()"
   ]
  },
  {
   "cell_type": "code",
   "execution_count": 79,
   "id": "1204647b",
   "metadata": {},
   "outputs": [
    {
     "name": "stdout",
     "output_type": "stream",
     "text": [
      "predicted=43.016047, expected=51.000000\n",
      "predicted=46.506964, expected=41.000000\n",
      "predicted=45.619679, expected=44.000000\n",
      "predicted=44.652277, expected=38.000000\n",
      "predicted=42.058430, expected=68.000000\n",
      "predicted=49.255859, expected=40.000000\n",
      "predicted=47.877755, expected=42.000000\n",
      "predicted=43.871346, expected=51.000000\n",
      "predicted=47.121732, expected=44.000000\n",
      "predicted=47.181009, expected=45.000000\n",
      "predicted=48.670808, expected=36.000000\n",
      "predicted=42.238475, expected=57.000000\n",
      "predicted=46.473183, expected=44.000000\n",
      "predicted=46.752733, expected=42.000000\n",
      "predicted=44.089722, expected=53.000000\n",
      "predicted=46.358504, expected=42.000000\n",
      "predicted=45.809913, expected=34.000000\n",
      "predicted=44.533052, expected=40.000000\n",
      "predicted=42.008302, expected=56.000000\n",
      "predicted=45.542463, expected=44.000000\n",
      "predicted=45.143492, expected=53.000000\n",
      "predicted=45.151975, expected=55.000000\n",
      "predicted=47.509389, expected=39.000000\n",
      "predicted=47.022304, expected=59.000000\n",
      "predicted=51.276931, expected=55.000000\n",
      "predicted=51.104843, expected=73.000000\n",
      "predicted=57.072665, expected=55.000000\n",
      "predicted=56.360488, expected=44.000000\n",
      "predicted=52.869577, expected=43.000000\n",
      "predicted=53.496737, expected=40.000000\n",
      "predicted=51.013196, expected=47.000000\n",
      "predicted=50.626960, expected=51.000000\n",
      "predicted=47.570657, expected=56.000000\n",
      "predicted=47.983872, expected=49.000000\n",
      "predicted=47.739450, expected=54.000000\n",
      "predicted=49.403300, expected=56.000000\n",
      "predicted=52.510640, expected=47.000000\n",
      "predicted=51.828371, expected=44.000000\n",
      "predicted=49.956130, expected=43.000000\n",
      "predicted=47.918256, expected=42.000000\n",
      "predicted=47.210587, expected=45.000000\n",
      "predicted=46.259035, expected=50.000000\n",
      "predicted=45.925407, expected=48.000000\n",
      "predicted=45.888154, expected=43.000000\n",
      "predicted=44.781913, expected=40.000000\n",
      "predicted=43.710612, expected=59.000000\n",
      "predicted=48.625172, expected=41.000000\n",
      "predicted=47.087732, expected=42.000000\n",
      "predicted=44.788969, expected=51.000000\n",
      "predicted=46.008939, expected=49.000000\n",
      "predicted=47.511032, expected=45.000000\n",
      "predicted=47.897344, expected=43.000000\n",
      "predicted=44.605402, expected=42.000000\n",
      "predicted=44.791289, expected=38.000000\n",
      "predicted=44.048773, expected=47.000000\n",
      "predicted=44.339294, expected=38.000000\n",
      "predicted=42.045069, expected=36.000000\n",
      "predicted=40.073834, expected=42.000000\n",
      "predicted=40.427969, expected=35.000000\n",
      "predicted=39.069121, expected=28.000000\n",
      "predicted=36.708521, expected=44.000000\n",
      "predicted=37.543494, expected=36.000000\n",
      "predicted=37.096361, expected=45.000000\n",
      "predicted=39.241109, expected=46.000000\n",
      "predicted=39.690531, expected=48.000000\n",
      "predicted=41.823730, expected=49.000000\n",
      "predicted=45.261594, expected=43.000000\n",
      "predicted=44.218380, expected=42.000000\n",
      "predicted=44.860994, expected=59.000000\n",
      "predicted=48.852399, expected=45.000000\n",
      "predicted=48.000650, expected=52.000000\n",
      "predicted=48.688693, expected=46.000000\n",
      "predicted=47.383872, expected=42.000000\n",
      "predicted=46.932706, expected=40.000000\n",
      "predicted=46.498784, expected=40.000000\n",
      "predicted=43.502177, expected=45.000000\n",
      "predicted=44.399286, expected=35.000000\n",
      "predicted=40.928652, expected=35.000000\n",
      "predicted=38.756235, expected=40.000000\n",
      "predicted=38.951844, expected=39.000000\n",
      "predicted=39.231373, expected=33.000000\n",
      "predicted=37.522190, expected=42.000000\n",
      "predicted=37.545617, expected=47.000000\n",
      "predicted=40.302958, expected=51.000000\n",
      "predicted=43.549323, expected=44.000000\n",
      "predicted=43.125134, expected=40.000000\n",
      "predicted=42.164442, expected=57.000000\n",
      "predicted=47.647592, expected=49.000000\n",
      "predicted=48.601182, expected=45.000000\n",
      "predicted=47.589560, expected=49.000000\n",
      "predicted=47.202635, expected=51.000000\n",
      "predicted=48.722400, expected=46.000000\n",
      "predicted=49.294451, expected=44.000000\n",
      "predicted=46.867669, expected=52.000000\n",
      "predicted=48.108049, expected=45.000000\n",
      "predicted=47.664129, expected=32.000000\n",
      "predicted=43.486358, expected=46.000000\n",
      "predicted=43.868161, expected=41.000000\n",
      "predicted=42.950505, expected=34.000000\n",
      "predicted=40.994687, expected=33.000000\n",
      "predicted=37.688351, expected=36.000000\n",
      "predicted=36.501277, expected=49.000000\n",
      "predicted=40.857001, expected=43.000000\n",
      "predicted=40.184851, expected=43.000000\n",
      "predicted=40.390003, expected=34.000000\n",
      "predicted=38.960827, expected=39.000000\n",
      "predicted=40.180719, expected=35.000000\n",
      "predicted=39.690136, expected=52.000000\n",
      "predicted=42.246387, expected=47.000000\n",
      "predicted=42.775005, expected=52.000000\n",
      "predicted=44.467205, expected=39.000000\n",
      "predicted=43.559097, expected=40.000000\n",
      "predicted=43.155548, expected=42.000000\n",
      "predicted=44.775024, expected=42.000000\n",
      "predicted=43.471160, expected=53.000000\n",
      "predicted=45.878395, expected=39.000000\n",
      "predicted=42.423664, expected=40.000000\n",
      "predicted=42.080896, expected=38.000000\n",
      "predicted=41.574591, expected=44.000000\n",
      "predicted=42.739766, expected=34.000000\n",
      "predicted=40.751821, expected=37.000000\n",
      "predicted=38.226793, expected=52.000000\n",
      "predicted=42.107089, expected=48.000000\n",
      "predicted=43.309998, expected=55.000000\n",
      "predicted=46.506577, expected=50.000000\n"
     ]
    }
   ],
   "source": [
    "#Validamos las predicciones con el modelo\n",
    "for t in range(len(test)):\n",
    "\tmodel = ARIMA(history, order=(5,1,0))\n",
    "\tmodel_fit = model.fit()\n",
    "\toutput = model_fit.forecast()\n",
    "\tyhat = output[0]\n",
    "\tpredictions.append(yhat)\n",
    "\tobs = test[t]\n",
    "\thistory.append(obs)\n",
    "\tprint('predicted=%f, expected=%f' % (yhat, obs))"
   ]
  },
  {
   "cell_type": "code",
   "execution_count": 80,
   "id": "8d8e84ba",
   "metadata": {},
   "outputs": [
    {
     "name": "stdout",
     "output_type": "stream",
     "text": [
      "Test RMSE: 7.598\n"
     ]
    }
   ],
   "source": [
    "#evaluamos nuestras predicciones \n",
    "rmse = sqrt(mean_squared_error(test, predictions))\n",
    "print('Test RMSE: %.3f' % rmse)"
   ]
  },
  {
   "cell_type": "code",
   "execution_count": 81,
   "id": "f4de35a2",
   "metadata": {},
   "outputs": [
    {
     "data": {
      "image/png": "[encoded data removed]",
      "text/plain": [
       "<Figure size 432x288 with 1 Axes>"
      ]
     },
     "metadata": {
      "needs_background": "light"
     },
     "output_type": "display_data"
    }
   ],
   "source": [
    "#graficamos predicciones contra valores del dataset\n",
    "pyplot.plot(test)\n",
    "pyplot.plot(predictions, color='red')\n",
    "pyplot.show()"
   ]
  },
  {
   "cell_type": "code",
   "execution_count": null,
   "id": "b44c7b4e",
   "metadata": {},
   "outputs": [],
   "source": []
  }
 ],
 "metadata": {
  "kernelspec": {
   "display_name": "Python 3 (ipykernel)",
   "language": "python",
   "name": "python3"
  },
  "language_info": {
   "codemirror_mode": {
    "name": "ipython",
    "version": 3
   },
   "file_extension": ".py",
   "mimetype": "text/x-python",
   "name": "python",
   "nbconvert_exporter": "python",
   "pygments_lexer": "ipython3",
   "version": "3.8.8"
  }
 },
 "nbformat": 4,
 "nbformat_minor": 5
}

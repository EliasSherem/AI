{
 "cells": [
  {
   "cell_type": "code",
   "execution_count": 5,
   "id": "3d8699b2",
   "metadata": {},
   "outputs": [],
   "source": [
    "#cargo librerias\n",
    "#libreria que carga la imagen\n",
    "from tensorflow.keras.preprocessing.image import load_img\n",
    "#transformar imagen a un arreglo\n",
    "from tensorflow.keras.preprocessing.image import img_to_array\n",
    "#libreria que me ayuda a traer el numeros.h5\n",
    "from tensorflow.keras.models import load_model"
   ]
  },
  {
   "cell_type": "code",
   "execution_count": 6,
   "id": "86c70fd3",
   "metadata": {},
   "outputs": [],
   "source": [
    "def load_image(filename):\n",
    "    #carga la imagen\n",
    "    img=load_img(filename,color_mode = \"grayscale\",target_size=(28,28))\n",
    "    #convierte la imagen a un arreglo\n",
    "    img=img_to_array(img)\n",
    "    #redibujo la imagen pero a un tamano normalizado\n",
    "    img=img.reshape(1,28,28,1)\n",
    "    #covnierto la imagen que traigo en tonos de grises a 0 y 1\n",
    "    img = img.astype(\"float32\")\n",
    "    #el valor maximo de un color es 255\n",
    "    img = img/255.0\n",
    "    return img"
   ]
  },
  {
   "cell_type": "code",
   "execution_count": 13,
   "id": "097c4901",
   "metadata": {},
   "outputs": [],
   "source": [
    "def run_test():\n",
    "    #cargar la imagen\n",
    "    img = load_image('C:\\\\Users\\\\shere\\\\Desktop\\\\Anahuac\\\\numero.png')\n",
    "    #cargar el modelo\n",
    "    model=load_model('numeros.h5')\n",
    "    #predecir\n",
    "    digit=model.predict_classes(img)\n",
    "    #tomar el [0] es el mejor del arreglo\n",
    "    print(digit[0])"
   ]
  },
  {
   "cell_type": "code",
   "execution_count": 14,
   "id": "39250f08",
   "metadata": {},
   "outputs": [
    {
     "name": "stdout",
     "output_type": "stream",
     "text": [
      "WARNING:tensorflow:5 out of the last 5 calls to <function Model.make_predict_function.<locals>.predict_function at 0x00000256427B8670> triggered tf.function retracing. Tracing is expensive and the excessive number of tracings could be due to (1) creating @tf.function repeatedly in a loop, (2) passing tensors with different shapes, (3) passing Python objects instead of tensors. For (1), please define your @tf.function outside of the loop. For (2), @tf.function has experimental_relax_shapes=True option that relaxes argument shapes that can avoid unnecessary retracing. For (3), please refer to https://www.tensorflow.org/tutorials/customization/performance#python_or_tensor_args and https://www.tensorflow.org/api_docs/python/tf/function for  more details.\n",
      "9\n"
     ]
    }
   ],
   "source": [
    "run_test()"
   ]
  },
  {
   "cell_type": "code",
   "execution_count": null,
   "id": "cad93f6e",
   "metadata": {},
   "outputs": [],
   "source": []
  }
 ],
 "metadata": {
  "kernelspec": {
   "display_name": "Python 3 (ipykernel)",
   "language": "python",
   "name": "python3"
  },
  "language_info": {
   "codemirror_mode": {
    "name": "ipython",
    "version": 3
   },
   "file_extension": ".py",
   "mimetype": "text/x-python",
   "name": "python",
   "nbconvert_exporter": "python",
   "pygments_lexer": "ipython3",
   "version": "3.8.8"
  }
 },
 "nbformat": 4,
 "nbformat_minor": 5
}

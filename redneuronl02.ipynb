{
 "cells": [
  {
   "cell_type": "code",
   "execution_count": 22,
   "id": "93e7f02f",
   "metadata": {},
   "outputs": [],
   "source": [
    "#red neuonal de convolucion\n",
    "#cargo las librerias deimagenes\n",
    "from tensorflow.keras.datasets import mnist #60,000 imagenes de numeros de 28x28 pixeles\n",
    "#libreria que tomara las imagenes para entrenar\n",
    "from tensorflow.keras.utils import to_categorical\n",
    "#modelo secuencial\n",
    "from tensorflow.keras.models import Sequential\n",
    "#funcion de convolucion, imagen original la reduzco aplicando un fltro\n",
    "from tensorflow.keras.layers import Conv2D\n",
    "#libreria que aplica el max pooling, matriz relu hago matriz mas chica con valores maximos\n",
    "from tensorflow.keras.layers import MaxPooling2D\n",
    "#libreria que controla las capas\n",
    "from tensorflow.keras.layers import Dense\n",
    "#libreria del aplanado flattening, aplanado=vector\n",
    "from tensorflow.keras.layers import Flatten\n",
    "#libreria que trae el gradiente descendente = ajustar pesos\n",
    "from tensorflow.keras.optimizers import SGD"
   ]
  },
  {
   "cell_type": "code",
   "execution_count": 23,
   "id": "7298fcab",
   "metadata": {},
   "outputs": [],
   "source": [
    "#funcion que carga la imagen, la entrena\n",
    "def load_dataset():\n",
    "    #cargar las imagenes de numeros del dataet mnist = ibreria de arriba\n",
    "    (trainX,trainY),(testX,testY)=mnist.load_data()\n",
    "    #se requieren nomalizar el tamano de las imagenes 28x28 pixeles\n",
    "    trainX=trainX.reshape(trainX.shape[0],28,28,1)\n",
    "    testX=testX.reshape(testX.shape[0],28,28,1)\n",
    "    #entrenar los valores\n",
    "    trainY=to_categorical(trainY) #existen neuronas binarias 0,1 categorical = imagenes perro, gato, etc.\n",
    "    testY=to_categorical(testY)\n",
    "    return trainX,trainY,testX,testY"
   ]
  },
  {
   "cell_type": "code",
   "execution_count": 24,
   "id": "21273788",
   "metadata": {},
   "outputs": [],
   "source": [
    "#funcion que prepara el tamano en pixeles de cualquier imagen = normalizar a 28x28\n",
    "def prep_pixels(train,test):\n",
    "    #convierto enteros a flotantes\n",
    "    train_norm = train.astype(\"float32\")\n",
    "    test_norm = test.astype(\"float32\")\n",
    "    #normalizo a valores de 0 , 1 \n",
    "    train_norm = train_norm/255.0\n",
    "    test_norm = test_norm/255.0\n",
    "    return train_norm, test_norm"
   ]
  },
  {
   "cell_type": "code",
   "execution_count": 25,
   "id": "f4e3be91",
   "metadata": {},
   "outputs": [],
   "source": [
    "#funcion para definir el modelo\n",
    "def define_model():\n",
    "    model=Sequential()\n",
    "    #32 neuronas con 1 filtro para cnvolucion de 3x3 aplicando la funcion relu, capa de entrada\n",
    "    model.add(Conv2D(32,(3,3),activation='relu',kernel_initializer='he_uniform',input_shape=(28,28,1)))\n",
    "    #obtengo la matriz del maxpooling seleccionando 2x2\n",
    "    model.add(MaxPooling2D(2,2))\n",
    "    #una capa de 64 neuronas oculta\n",
    "    model.add(Conv2D(64,(3,3),activation='relu',kernel_initializer='he_uniform'))\n",
    "    model.add(Conv2D(64,(3,3),activation='relu',kernel_initializer='he_uniform'))\n",
    "    #capa oculta de max pooling\n",
    "    model.add(MaxPooling2D(2,2))\n",
    "    #aplanado\n",
    "    model.add(Flatten())\n",
    "    #aplanado significa Xi\n",
    "    model.add(Dense(100,activation='relu',kernel_initializer='he_uniform'))\n",
    "    model.add(Dense(10,activation='softmax'))\n",
    "    #compilacion del modelo configurando el gradiente descendente\n",
    "    opt=SGD(lr=0.01,momentum=0.9)\n",
    "    model.compile(optimizer=opt,loss='categorical_crossentropy',metrics=['accuracy'])\n",
    "    return model"
   ]
  },
  {
   "cell_type": "code",
   "execution_count": 26,
   "id": "7c1a746e",
   "metadata": {},
   "outputs": [],
   "source": [
    "def run_test():\n",
    "    #cargo el modelo\n",
    "    trainX,trainY,testX,testY=load_dataset()\n",
    "    #preparo los datos\n",
    "    trainX,testX=prep_pixels(trainX,testX)\n",
    "    #definir el modelo\n",
    "    model=define_model()\n",
    "    #correr el modelo epochs=iteraciones, batch=repasadas y verbose=desactivar algunas salidas en consola\n",
    "    model.fit(trainX,trainY,epochs=50,batch_size=32,verbose=0)\n",
    "    #guardo el modelo\n",
    "    model.save('numeros.h5')"
   ]
  },
  {
   "cell_type": "code",
   "execution_count": 27,
   "id": "a7827e96",
   "metadata": {},
   "outputs": [],
   "source": [
    "run_test()"
   ]
  },
  {
   "cell_type": "code",
   "execution_count": null,
   "id": "567b0083",
   "metadata": {},
   "outputs": [],
   "source": []
  }
 ],
 "metadata": {
  "kernelspec": {
   "display_name": "Python 3 (ipykernel)",
   "language": "python",
   "name": "python3"
  },
  "language_info": {
   "codemirror_mode": {
    "name": "ipython",
    "version": 3
   },
   "file_extension": ".py",
   "mimetype": "text/x-python",
   "name": "python",
   "nbconvert_exporter": "python",
   "pygments_lexer": "ipython3",
   "version": "3.8.8"
  }
 },
 "nbformat": 4,
 "nbformat_minor": 5
}
